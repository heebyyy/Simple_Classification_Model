{
 "cells": [
  {
   "cell_type": "code",
   "execution_count": 15,
   "metadata": {},
   "outputs": [],
   "source": [
    "import pandas as pd\n",
    "import numpy as np\n",
    "\n",
    "from sklearn.metrics import accuracy_score, precision_score, recall_score\n",
    "from sklearn.model_selection import train_test_split\n",
    "\n",
    "from sklearn.linear_model import LogisticRegression,SGDClassifier\n",
    "from sklearn.discriminant_analysis import LinearDiscriminantAnalysis,QuadraticDiscriminantAnalysis\n",
    "from sklearn.svm import LinearSVC\n",
    "from sklearn.neighbors import RadiusNeighborsClassifier\n",
    "from sklearn.naive_bayes import GaussianNB\n",
    "from sklearn.tree import DecisionTreeClassifier"
   ]
  },
  {
   "cell_type": "code",
   "execution_count": 16,
   "metadata": {},
   "outputs": [
    {
     "data": {
      "text/html": [
       "<div>\n",
       "<style scoped>\n",
       "    .dataframe tbody tr th:only-of-type {\n",
       "        vertical-align: middle;\n",
       "    }\n",
       "\n",
       "    .dataframe tbody tr th {\n",
       "        vertical-align: top;\n",
       "    }\n",
       "\n",
       "    .dataframe thead th {\n",
       "        text-align: right;\n",
       "    }\n",
       "</style>\n",
       "<table border=\"1\" class=\"dataframe\">\n",
       "  <thead>\n",
       "    <tr style=\"text-align: right;\">\n",
       "      <th></th>\n",
       "      <th>Survived</th>\n",
       "      <th>Pclass</th>\n",
       "      <th>Sex</th>\n",
       "      <th>Age</th>\n",
       "      <th>SibSp</th>\n",
       "      <th>Parch</th>\n",
       "      <th>Fare</th>\n",
       "      <th>Embarked_Q</th>\n",
       "      <th>Embarked_S</th>\n",
       "    </tr>\n",
       "  </thead>\n",
       "  <tbody>\n",
       "    <tr>\n",
       "      <th>0</th>\n",
       "      <td>0</td>\n",
       "      <td>3</td>\n",
       "      <td>1</td>\n",
       "      <td>15.0</td>\n",
       "      <td>1</td>\n",
       "      <td>1</td>\n",
       "      <td>7.2292</td>\n",
       "      <td>0</td>\n",
       "      <td>0</td>\n",
       "    </tr>\n",
       "    <tr>\n",
       "      <th>1</th>\n",
       "      <td>0</td>\n",
       "      <td>3</td>\n",
       "      <td>1</td>\n",
       "      <td>22.0</td>\n",
       "      <td>0</td>\n",
       "      <td>0</td>\n",
       "      <td>7.2500</td>\n",
       "      <td>0</td>\n",
       "      <td>1</td>\n",
       "    </tr>\n",
       "    <tr>\n",
       "      <th>2</th>\n",
       "      <td>0</td>\n",
       "      <td>2</td>\n",
       "      <td>1</td>\n",
       "      <td>18.0</td>\n",
       "      <td>0</td>\n",
       "      <td>0</td>\n",
       "      <td>13.0000</td>\n",
       "      <td>0</td>\n",
       "      <td>1</td>\n",
       "    </tr>\n",
       "    <tr>\n",
       "      <th>3</th>\n",
       "      <td>1</td>\n",
       "      <td>2</td>\n",
       "      <td>0</td>\n",
       "      <td>18.0</td>\n",
       "      <td>0</td>\n",
       "      <td>1</td>\n",
       "      <td>23.0000</td>\n",
       "      <td>0</td>\n",
       "      <td>1</td>\n",
       "    </tr>\n",
       "    <tr>\n",
       "      <th>4</th>\n",
       "      <td>0</td>\n",
       "      <td>3</td>\n",
       "      <td>1</td>\n",
       "      <td>20.0</td>\n",
       "      <td>0</td>\n",
       "      <td>0</td>\n",
       "      <td>7.8542</td>\n",
       "      <td>0</td>\n",
       "      <td>1</td>\n",
       "    </tr>\n",
       "  </tbody>\n",
       "</table>\n",
       "</div>"
      ],
      "text/plain": [
       "   Survived  Pclass  Sex   Age  SibSp  Parch     Fare  Embarked_Q  Embarked_S\n",
       "0         0       3    1  15.0      1      1   7.2292           0           0\n",
       "1         0       3    1  22.0      0      0   7.2500           0           1\n",
       "2         0       2    1  18.0      0      0  13.0000           0           1\n",
       "3         1       2    0  18.0      0      1  23.0000           0           1\n",
       "4         0       3    1  20.0      0      0   7.8542           0           1"
      ]
     },
     "execution_count": 16,
     "metadata": {},
     "output_type": "execute_result"
    }
   ],
   "source": [
    "titanic_df = pd.read_csv('data/titanic_processed.csv')\n",
    "titanic_df.head()"
   ]
  },
  {
   "cell_type": "code",
   "execution_count": 17,
   "metadata": {},
   "outputs": [
    {
     "data": {
      "text/plain": [
       "['Pclass', 'Sex', 'Age', 'SibSp', 'Parch', 'Fare', 'Embarked_Q', 'Embarked_S']"
      ]
     },
     "execution_count": 17,
     "metadata": {},
     "output_type": "execute_result"
    }
   ],
   "source": [
    "features = list(titanic_df.columns[1:])\n",
    "features"
   ]
  },
  {
   "cell_type": "code",
   "execution_count": 18,
   "metadata": {},
   "outputs": [],
   "source": [
    "results_dict = {}"
   ]
  },
  {
   "cell_type": "code",
   "execution_count": 19,
   "metadata": {},
   "outputs": [],
   "source": [
    "def summarize_classification(y_test, y_pred):\n",
    "    acc = accuracy_score(y_test, y_pred, normalize = True)\n",
    "    num_acc = accuracy_score(y_test, y_pred, normalize = False)\n",
    "    \n",
    "    prec = precision_score(y_test, y_pred)\n",
    "    recall = recall_score(y_test, y_pred)\n",
    "    \n",
    "    return {'accuracy' : acc,\n",
    "            'precision' : prec, \n",
    "            'recall' : recall,\n",
    "            'accurcy_count' : num_acc     \n",
    "            }"
   ]
  },
  {
   "cell_type": "code",
   "execution_count": 20,
   "metadata": {},
   "outputs": [],
   "source": [
    "def build_model(classifier_fn, name_of_y_col, names_of_x_cols, dataset, test_frac = 0.2):\n",
    "    \n",
    "    x = dataset[names_of_x_cols]\n",
    "    y = dataset[name_of_y_col]\n",
    "    \n",
    "    x_train, x_test, y_train, y_test = train_test_split(x, y, test_size = test_frac)\n",
    "    \n",
    "    model = classifier_fn(x_train, y_train)\n",
    "    y_pred = model.predict(x_test)\n",
    "    \n",
    "    y_pred_train = model.predict(x_train)\n",
    "    \n",
    "    train_summary = summarize_classification(y_train, y_pred_train)\n",
    "    test_summary = summarize_classification(y_test, y_pred)\n",
    "    \n",
    "    pred_results = pd.DataFrame({'y_test': y_test,\n",
    "                                 'y_pred': y_pred,\n",
    "                                })\n",
    "    \n",
    "    # This is the confusionmatrix\n",
    "    model_crosstab = pd.crosstab(pred_results.y_test, pred_results.y_pred)\n",
    "    \n",
    "    return {'training' : train_summary,\n",
    "            'test': test_summary,\n",
    "            'confusion_matrix' : model_crosstab\n",
    "           }"
   ]
  },
  {
   "cell_type": "code",
   "execution_count": 31,
   "metadata": {},
   "outputs": [],
   "source": [
    "def compare_results():\n",
    "    for key in results_dict:\n",
    "        print({'classification ' : key})\n",
    "        \n",
    "        print()\n",
    "        print('Training Data')\n",
    "        for score in results_dict[key]['training']:\n",
    "            print(score, results_dict[key]['training'][score])\n",
    "        \n",
    "        \n",
    "        print()\n",
    "        print('Test Data')\n",
    "        for score in results_dict[key]['test']:\n",
    "            print(score, results_dict[key]['test'][score])\n",
    "        \n",
    "        print()"
   ]
  },
  {
   "cell_type": "code",
   "execution_count": 32,
   "metadata": {},
   "outputs": [],
   "source": [
    "def logistic_fn(x_train, y_train):\n",
    "    model = LogisticRegression(solver = 'liblinear')\n",
    "    model.fit(x_train,y_train)\n",
    "    \n",
    "    return model"
   ]
  },
  {
   "cell_type": "code",
   "execution_count": 33,
   "metadata": {
    "collapsed": true
   },
   "outputs": [
    {
     "name": "stdout",
     "output_type": "stream",
     "text": [
      "{'classification ': 'survived - logistic'}\n",
      "\n",
      "Training Data\n",
      "accuracy 0.8031634446397188\n",
      "precision 0.7804878048780488\n",
      "recall 0.7048458149779736\n",
      "accurcy_count 457\n",
      "\n",
      "Test Data\n",
      "accuracy 0.7622377622377622\n",
      "precision 0.7647058823529411\n",
      "recall 0.639344262295082\n",
      "accurcy_count 109\n",
      "\n",
      "{'classification ': 'survived - Linear_Discriminat_Analysis'}\n",
      "\n",
      "Training Data\n",
      "accuracy 0.7978910369068541\n",
      "precision 0.785\n",
      "recall 0.6855895196506551\n",
      "accurcy_count 454\n",
      "\n",
      "Test Data\n",
      "accuracy 0.8041958041958042\n",
      "precision 0.746031746031746\n",
      "recall 0.7966101694915254\n",
      "accurcy_count 115\n",
      "\n"
     ]
    }
   ],
   "source": [
    "results_dict['survived - logistic'] = build_model(logistic_fn, 'Survived', features, titanic_df)\n",
    "\n",
    "compare_results()"
   ]
  },
  {
   "cell_type": "code",
   "execution_count": 34,
   "metadata": {},
   "outputs": [],
   "source": [
    "def linear_discriminant_fn(x_train, y_train, solver ='svd'):\n",
    "    model = LinearDiscriminantAnalysis(solver = solver)\n",
    "    model.fit(x_train, y_train)\n",
    "    \n",
    "    return model"
   ]
  },
  {
   "cell_type": "code",
   "execution_count": 35,
   "metadata": {
    "collapsed": true
   },
   "outputs": [
    {
     "name": "stdout",
     "output_type": "stream",
     "text": [
      "{'classification ': 'survived - logistic'}\n",
      "\n",
      "Training Data\n",
      "accuracy 0.8031634446397188\n",
      "precision 0.7804878048780488\n",
      "recall 0.7048458149779736\n",
      "accurcy_count 457\n",
      "\n",
      "Test Data\n",
      "accuracy 0.7622377622377622\n",
      "precision 0.7647058823529411\n",
      "recall 0.639344262295082\n",
      "accurcy_count 109\n",
      "\n",
      "{'classification ': 'survived - Linear_Discriminat_Analysis'}\n",
      "\n",
      "Training Data\n",
      "accuracy 0.7908611599297012\n",
      "precision 0.7605633802816901\n",
      "recall 0.7043478260869566\n",
      "accurcy_count 450\n",
      "\n",
      "Test Data\n",
      "accuracy 0.8321678321678322\n",
      "precision 0.8035714285714286\n",
      "recall 0.7758620689655172\n",
      "accurcy_count 119\n",
      "\n"
     ]
    }
   ],
   "source": [
    "results_dict['survived - Linear_Discriminat_Analysis'] = build_model(linear_discriminant_fn, 'Survived', features, titanic_df)\n",
    "\n",
    "compare_results()"
   ]
  },
  {
   "cell_type": "code",
   "execution_count": 36,
   "metadata": {},
   "outputs": [],
   "source": [
    "def quadratic_discriminant_fn(x_train, y_train):\n",
    "    model = QuadraticDiscriminantAnalysis()\n",
    "    model.fit(x_train, y_train)\n",
    "    \n",
    "    return model"
   ]
  },
  {
   "cell_type": "code",
   "execution_count": 37,
   "metadata": {
    "collapsed": true
   },
   "outputs": [
    {
     "name": "stdout",
     "output_type": "stream",
     "text": [
      "{'classification ': 'survived - logistic'}\n",
      "\n",
      "Training Data\n",
      "accuracy 0.8031634446397188\n",
      "precision 0.7804878048780488\n",
      "recall 0.7048458149779736\n",
      "accurcy_count 457\n",
      "\n",
      "Test Data\n",
      "accuracy 0.7622377622377622\n",
      "precision 0.7647058823529411\n",
      "recall 0.639344262295082\n",
      "accurcy_count 109\n",
      "\n",
      "{'classification ': 'survived - Linear_Discriminat_Analysis'}\n",
      "\n",
      "Training Data\n",
      "accuracy 0.7908611599297012\n",
      "precision 0.7605633802816901\n",
      "recall 0.7043478260869566\n",
      "accurcy_count 450\n",
      "\n",
      "Test Data\n",
      "accuracy 0.8321678321678322\n",
      "precision 0.8035714285714286\n",
      "recall 0.7758620689655172\n",
      "accurcy_count 119\n",
      "\n",
      "{'classification ': 'survived - Quadratic_discriminat_analysis'}\n",
      "\n",
      "Training Data\n",
      "accuracy 0.7926186291739895\n",
      "precision 0.7757009345794392\n",
      "recall 0.7033898305084746\n",
      "accurcy_count 451\n",
      "\n",
      "Test Data\n",
      "accuracy 0.8111888111888111\n",
      "precision 0.711864406779661\n",
      "recall 0.8076923076923077\n",
      "accurcy_count 116\n",
      "\n"
     ]
    }
   ],
   "source": [
    "results_dict['survived - Quadratic_discriminat_analysis'] = build_model(quadratic_discriminant_fn, 'Survived',features, titanic_df)\n",
    "\n",
    "compare_results()"
   ]
  },
  {
   "cell_type": "code",
   "execution_count": 40,
   "metadata": {},
   "outputs": [],
   "source": [
    "def sgd_fn(x_train, y_train, max_iter = 1000, tol = 1e-3):\n",
    "    model = SGDClassifier(max_iter = max_iter, tol = tol)\n",
    "    model.fit(x_train, y_train)\n",
    "    \n",
    "    return model"
   ]
  },
  {
   "cell_type": "code",
   "execution_count": 41,
   "metadata": {
    "collapsed": true
   },
   "outputs": [
    {
     "name": "stdout",
     "output_type": "stream",
     "text": [
      "{'classification ': 'survived - logistic'}\n",
      "\n",
      "Training Data\n",
      "accuracy 0.8031634446397188\n",
      "precision 0.7804878048780488\n",
      "recall 0.7048458149779736\n",
      "accurcy_count 457\n",
      "\n",
      "Test Data\n",
      "accuracy 0.7622377622377622\n",
      "precision 0.7647058823529411\n",
      "recall 0.639344262295082\n",
      "accurcy_count 109\n",
      "\n",
      "{'classification ': 'survived - Linear_Discriminat_Analysis'}\n",
      "\n",
      "Training Data\n",
      "accuracy 0.7908611599297012\n",
      "precision 0.7605633802816901\n",
      "recall 0.7043478260869566\n",
      "accurcy_count 450\n",
      "\n",
      "Test Data\n",
      "accuracy 0.8321678321678322\n",
      "precision 0.8035714285714286\n",
      "recall 0.7758620689655172\n",
      "accurcy_count 119\n",
      "\n",
      "{'classification ': 'survived - Quadratic_discriminat_analysis'}\n",
      "\n",
      "Training Data\n",
      "accuracy 0.7926186291739895\n",
      "precision 0.7757009345794392\n",
      "recall 0.7033898305084746\n",
      "accurcy_count 451\n",
      "\n",
      "Test Data\n",
      "accuracy 0.8111888111888111\n",
      "precision 0.711864406779661\n",
      "recall 0.8076923076923077\n",
      "accurcy_count 116\n",
      "\n",
      "{'classification ': 'survived - Standard_Gradient_Descent'}\n",
      "\n",
      "Training Data\n",
      "accuracy 0.7715289982425307\n",
      "precision 0.69140625\n",
      "recall 0.7763157894736842\n",
      "accurcy_count 439\n",
      "\n",
      "Test Data\n",
      "accuracy 0.7552447552447552\n",
      "precision 0.6811594202898551\n",
      "recall 0.7833333333333333\n",
      "accurcy_count 108\n",
      "\n"
     ]
    }
   ],
   "source": [
    "results_dict['survived - Stochastic_Gradient_Descent'] = build_model(sgd_fn, 'Survived', features, titanic_df)\n",
    "\n",
    "compare_results()"
   ]
  },
  {
   "cell_type": "code",
   "execution_count": null,
   "metadata": {},
   "outputs": [],
   "source": []
  },
  {
   "cell_type": "code",
   "execution_count": null,
   "metadata": {},
   "outputs": [],
   "source": []
  },
  {
   "cell_type": "code",
   "execution_count": null,
   "metadata": {},
   "outputs": [],
   "source": []
  },
  {
   "cell_type": "code",
   "execution_count": null,
   "metadata": {},
   "outputs": [],
   "source": []
  },
  {
   "cell_type": "code",
   "execution_count": null,
   "metadata": {},
   "outputs": [],
   "source": []
  },
  {
   "cell_type": "code",
   "execution_count": null,
   "metadata": {},
   "outputs": [],
   "source": []
  },
  {
   "cell_type": "code",
   "execution_count": null,
   "metadata": {},
   "outputs": [],
   "source": []
  },
  {
   "cell_type": "code",
   "execution_count": null,
   "metadata": {},
   "outputs": [],
   "source": []
  }
 ],
 "metadata": {
  "kernelspec": {
   "display_name": "Python 3",
   "language": "python",
   "name": "python3"
  },
  "language_info": {
   "codemirror_mode": {
    "name": "ipython",
    "version": 3
   },
   "file_extension": ".py",
   "mimetype": "text/x-python",
   "name": "python",
   "nbconvert_exporter": "python",
   "pygments_lexer": "ipython3",
   "version": "3.8.5"
  }
 },
 "nbformat": 4,
 "nbformat_minor": 4
}
