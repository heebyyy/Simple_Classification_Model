{
 "cells": [
  {
   "cell_type": "code",
   "execution_count": 20,
   "metadata": {},
   "outputs": [],
   "source": [
    "import pandas as pd\n",
    "import numpy as np \n",
    "\n",
    "from sklearn.model_selection import train_test_split\n",
    "from sklearn.model_selection import GridSearchCV\n",
    "from sklearn.metrics import accuracy_score, precision_score, recall_score\n",
    "\n",
    "from sklearn.tree import DecisionTreeClassifier\n",
    "from sklearn.linear_model import LogisticRegression"
   ]
  },
  {
   "cell_type": "code",
   "execution_count": 21,
   "metadata": {},
   "outputs": [
    {
     "data": {
      "text/html": [
       "<div>\n",
       "<style scoped>\n",
       "    .dataframe tbody tr th:only-of-type {\n",
       "        vertical-align: middle;\n",
       "    }\n",
       "\n",
       "    .dataframe tbody tr th {\n",
       "        vertical-align: top;\n",
       "    }\n",
       "\n",
       "    .dataframe thead th {\n",
       "        text-align: right;\n",
       "    }\n",
       "</style>\n",
       "<table border=\"1\" class=\"dataframe\">\n",
       "  <thead>\n",
       "    <tr style=\"text-align: right;\">\n",
       "      <th></th>\n",
       "      <th>Survived</th>\n",
       "      <th>Pclass</th>\n",
       "      <th>Sex</th>\n",
       "      <th>Age</th>\n",
       "      <th>SibSp</th>\n",
       "      <th>Parch</th>\n",
       "      <th>Fare</th>\n",
       "      <th>Embarked_Q</th>\n",
       "      <th>Embarked_S</th>\n",
       "    </tr>\n",
       "  </thead>\n",
       "  <tbody>\n",
       "    <tr>\n",
       "      <th>0</th>\n",
       "      <td>0</td>\n",
       "      <td>3</td>\n",
       "      <td>1</td>\n",
       "      <td>15.0</td>\n",
       "      <td>1</td>\n",
       "      <td>1</td>\n",
       "      <td>7.2292</td>\n",
       "      <td>0</td>\n",
       "      <td>0</td>\n",
       "    </tr>\n",
       "    <tr>\n",
       "      <th>1</th>\n",
       "      <td>0</td>\n",
       "      <td>3</td>\n",
       "      <td>1</td>\n",
       "      <td>22.0</td>\n",
       "      <td>0</td>\n",
       "      <td>0</td>\n",
       "      <td>7.2500</td>\n",
       "      <td>0</td>\n",
       "      <td>1</td>\n",
       "    </tr>\n",
       "    <tr>\n",
       "      <th>2</th>\n",
       "      <td>0</td>\n",
       "      <td>2</td>\n",
       "      <td>1</td>\n",
       "      <td>18.0</td>\n",
       "      <td>0</td>\n",
       "      <td>0</td>\n",
       "      <td>13.0000</td>\n",
       "      <td>0</td>\n",
       "      <td>1</td>\n",
       "    </tr>\n",
       "    <tr>\n",
       "      <th>3</th>\n",
       "      <td>1</td>\n",
       "      <td>2</td>\n",
       "      <td>0</td>\n",
       "      <td>18.0</td>\n",
       "      <td>0</td>\n",
       "      <td>1</td>\n",
       "      <td>23.0000</td>\n",
       "      <td>0</td>\n",
       "      <td>1</td>\n",
       "    </tr>\n",
       "    <tr>\n",
       "      <th>4</th>\n",
       "      <td>0</td>\n",
       "      <td>3</td>\n",
       "      <td>1</td>\n",
       "      <td>20.0</td>\n",
       "      <td>0</td>\n",
       "      <td>0</td>\n",
       "      <td>7.8542</td>\n",
       "      <td>0</td>\n",
       "      <td>1</td>\n",
       "    </tr>\n",
       "  </tbody>\n",
       "</table>\n",
       "</div>"
      ],
      "text/plain": [
       "   Survived  Pclass  Sex   Age  SibSp  Parch     Fare  Embarked_Q  Embarked_S\n",
       "0         0       3    1  15.0      1      1   7.2292           0           0\n",
       "1         0       3    1  22.0      0      0   7.2500           0           1\n",
       "2         0       2    1  18.0      0      0  13.0000           0           1\n",
       "3         1       2    0  18.0      0      1  23.0000           0           1\n",
       "4         0       3    1  20.0      0      0   7.8542           0           1"
      ]
     },
     "execution_count": 21,
     "metadata": {},
     "output_type": "execute_result"
    }
   ],
   "source": [
    "titanic_df = pd.read_csv('data/titanic_processed.csv')\n",
    "titanic_df.head()"
   ]
  },
  {
   "cell_type": "code",
   "execution_count": 22,
   "metadata": {},
   "outputs": [],
   "source": [
    "x = titanic_df.drop('Survived', axis = 1)\n",
    "y = titanic_df['Survived']\n",
    "x_train, x_test, y_train, y_test = train_test_split(x, y, test_size = 0.2)"
   ]
  },
  {
   "cell_type": "code",
   "execution_count": 23,
   "metadata": {},
   "outputs": [],
   "source": [
    "def summarize_classification(y_test,y_pred):\n",
    "    acc = accuracy_score(y_test, y_pred, normalize = True)\n",
    "    num_acc = accuracy_score(y_test, y_pred, normalize = False)\n",
    "    \n",
    "    prec = precision_score(y_test, y_pred)\n",
    "    recall = recall_score(y_test, y_pred)\n",
    "    \n",
    "    print('Test data count: ', len(y_test))\n",
    "    print('accuracy count: ', num_acc)\n",
    "    print('accuracy score: ', acc)\n",
    "    print('precision score: ', prec)\n",
    "    print('recall score: ', recall)"
   ]
  },
  {
   "cell_type": "code",
   "execution_count": 24,
   "metadata": {},
   "outputs": [
    {
     "data": {
      "text/plain": [
       "{'max_depth': 4}"
      ]
     },
     "execution_count": 24,
     "metadata": {},
     "output_type": "execute_result"
    }
   ],
   "source": [
    "parameters = {'max_depth' : [2, 4, 6, 8, 10]}\n",
    "grid_search = GridSearchCV(DecisionTreeClassifier(), parameters, cv = 3, return_train_score = True)\n",
    "grid_search.fit(x_train, y_train)\n",
    "\n",
    "grid_search.best_params_"
   ]
  },
  {
   "cell_type": "code",
   "execution_count": 25,
   "metadata": {},
   "outputs": [
    {
     "name": "stdout",
     "output_type": "stream",
     "text": [
      "Parameters:  {'max_depth': 2}\n",
      "Mean Test Score:  0.7943376960920822\n",
      "Rank Test Score:  2\n",
      "\n",
      "Parameters:  {'max_depth': 4}\n",
      "Mean Test Score:  0.8013830873479996\n",
      "Rank Test Score:  1\n",
      "\n",
      "Parameters:  {'max_depth': 6}\n",
      "Mean Test Score:  0.7890931031281908\n",
      "Rank Test Score:  3\n",
      "\n",
      "Parameters:  {'max_depth': 8}\n",
      "Mean Test Score:  0.7785296574770258\n",
      "Rank Test Score:  5\n",
      "\n",
      "Parameters:  {'max_depth': 10}\n",
      "Mean Test Score:  0.7873294346978557\n",
      "Rank Test Score:  4\n",
      "\n"
     ]
    }
   ],
   "source": [
    "for i in range(5):\n",
    "    print('Parameters: ', grid_search.cv_results_['params'][i])\n",
    "    print('Mean Test Score: ', grid_search.cv_results_['mean_test_score'][i])\n",
    "    print('Rank Test Score: ', grid_search.cv_results_['rank_test_score'][i])\n",
    "    print()"
   ]
  },
  {
   "cell_type": "code",
   "execution_count": 26,
   "metadata": {},
   "outputs": [],
   "source": [
    "decision_tree_model = DecisionTreeClassifier( \\\n",
    "                                         max_depth = grid_search.best_params_['max_depth']  \n",
    "                                            ).fit(x_train, y_train)"
   ]
  },
  {
   "cell_type": "code",
   "execution_count": 27,
   "metadata": {},
   "outputs": [],
   "source": [
    "y_pred = decision_tree_model.predict(x_test)"
   ]
  },
  {
   "cell_type": "code",
   "execution_count": 28,
   "metadata": {},
   "outputs": [
    {
     "name": "stdout",
     "output_type": "stream",
     "text": [
      "Test data count:  143\n",
      "accuracy count:  110\n",
      "accuracy score:  0.7692307692307693\n",
      "precision score:  0.9230769230769231\n",
      "recall score:  0.5454545454545454\n"
     ]
    }
   ],
   "source": [
    "summarize_classification(y_test, y_pred)"
   ]
  },
  {
   "cell_type": "code",
   "execution_count": 30,
   "metadata": {},
   "outputs": [
    {
     "data": {
      "text/plain": [
       "{'C': 2, 'penalty': 'l2'}"
      ]
     },
     "execution_count": 30,
     "metadata": {},
     "output_type": "execute_result"
    }
   ],
   "source": [
    "parameters = {'penalty' : ['l1', 'l2'],\n",
    "              'C': [0.1, 0.4, 0.8, 1, 2, 5]\n",
    "             }\n",
    "grid_search = GridSearchCV(LogisticRegression(solver = 'liblinear'), parameters, cv =3, return_train_score = True)\n",
    "grid_search.fit(x_train, y_train)\n",
    "grid_search.best_params_"
   ]
  },
  {
   "cell_type": "code",
   "execution_count": 32,
   "metadata": {},
   "outputs": [
    {
     "name": "stdout",
     "output_type": "stream",
     "text": [
      "Parameters:  {'C': 0.1, 'penalty': 'l1'}\n",
      "Mean Test Score:  0.7821126891302329\n",
      "Rank Test Score:  12\n",
      "\n",
      "Parameters:  {'C': 0.1, 'penalty': 'l2'}\n",
      "Mean Test Score:  0.7856307435254802\n",
      "Rank Test Score:  9\n",
      "\n",
      "Parameters:  {'C': 0.4, 'penalty': 'l1'}\n",
      "Mean Test Score:  0.7838392276988767\n",
      "Rank Test Score:  11\n",
      "\n",
      "Parameters:  {'C': 0.4, 'penalty': 'l2'}\n",
      "Mean Test Score:  0.7926668523159751\n",
      "Rank Test Score:  2\n",
      "\n",
      "Parameters:  {'C': 0.8, 'penalty': 'l1'}\n",
      "Mean Test Score:  0.7908567715585259\n",
      "Rank Test Score:  5\n",
      "\n",
      "Parameters:  {'C': 0.8, 'penalty': 'l2'}\n",
      "Mean Test Score:  0.7926482873851294\n",
      "Rank Test Score:  3\n",
      "\n",
      "Parameters:  {'C': 1, 'penalty': 'l1'}\n",
      "Mean Test Score:  0.789083820662768\n",
      "Rank Test Score:  7\n",
      "\n",
      "Parameters:  {'C': 1, 'penalty': 'l2'}\n",
      "Mean Test Score:  0.7926390049197067\n",
      "Rank Test Score:  4\n",
      "\n",
      "Parameters:  {'C': 2, 'penalty': 'l1'}\n",
      "Mean Test Score:  0.7855657662675206\n",
      "Rank Test Score:  10\n",
      "\n",
      "Parameters:  {'C': 2, 'penalty': 'l2'}\n",
      "Mean Test Score:  0.7961292119186855\n",
      "Rank Test Score:  1\n",
      "\n",
      "Parameters:  {'C': 5, 'penalty': 'l1'}\n",
      "Mean Test Score:  0.7873294346978557\n",
      "Rank Test Score:  8\n",
      "\n",
      "Parameters:  {'C': 5, 'penalty': 'l2'}\n",
      "Mean Test Score:  0.7908474890931032\n",
      "Rank Test Score:  6\n",
      "\n"
     ]
    }
   ],
   "source": [
    "for i in range(12):\n",
    "    print('Parameters: ', grid_search.cv_results_['params'][i])\n",
    "    print('Mean Test Score: ', grid_search.cv_results_['mean_test_score'][i])\n",
    "    print('Rank Test Score: ', grid_search.cv_results_['rank_test_score'][i])\n",
    "    print()"
   ]
  },
  {
   "cell_type": "code",
   "execution_count": 35,
   "metadata": {},
   "outputs": [],
   "source": [
    "logistic_regression = LogisticRegression(solver = 'liblinear', \\\n",
    "                                        C = grid_search.best_params_['C'], \\\n",
    "                                        penalty = grid_search.best_params_['penalty']).fit(x_train, y_train)\n",
    "\n",
    "y_pred = logistic_regression.predict(x_test)"
   ]
  },
  {
   "cell_type": "code",
   "execution_count": 37,
   "metadata": {},
   "outputs": [
    {
     "name": "stdout",
     "output_type": "stream",
     "text": [
      "Test data count:  143\n",
      "accuracy count:  114\n",
      "accuracy score:  0.7972027972027972\n",
      "precision score:  0.8363636363636363\n",
      "recall score:  0.696969696969697\n"
     ]
    }
   ],
   "source": [
    "summarize_classification(y_test, y_pred)"
   ]
  },
  {
   "cell_type": "code",
   "execution_count": null,
   "metadata": {},
   "outputs": [],
   "source": []
  }
 ],
 "metadata": {
  "kernelspec": {
   "display_name": "Python 3",
   "language": "python",
   "name": "python3"
  },
  "language_info": {
   "codemirror_mode": {
    "name": "ipython",
    "version": 3
   },
   "file_extension": ".py",
   "mimetype": "text/x-python",
   "name": "python",
   "nbconvert_exporter": "python",
   "pygments_lexer": "ipython3",
   "version": "3.8.5"
  }
 },
 "nbformat": 4,
 "nbformat_minor": 4
}
